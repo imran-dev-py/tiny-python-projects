{
 "cells": [
  {
   "cell_type": "code",
   "execution_count": 1,
   "metadata": {
    "collapsed": false
   },
   "outputs": [
    {
     "data": {
      "text/plain": [
       "5"
      ]
     },
     "execution_count": 1,
     "metadata": {
     },
     "output_type": "execute_result"
    }
   ],
   "source": [
    "5"
   ]
  },
  {
   "cell_type": "code",
   "execution_count": 2,
   "metadata": {
    "cocalc": {
     "outputs": {
      "1": {
       "name": "input",
       "opts": {
        "password": false,
        "prompt": "How many birthdays shall I generate? (max 100)> "
       },
       "output_type": "stream",
       "value": "23"
      },
      "3": {
       "name": "input",
       "opts": {
        "password": false,
        "prompt": "Press enter to begin..."
       },
       "output_type": "stream",
       "value": ""
      }
     }
    },
    "collapsed": false
   },
   "outputs": [
    {
     "name": "stdout",
     "output_type": "stream",
     "text": [
      "\n",
      "\n",
      "The Birthday Paradox shows us that in a group of N people, the odds\n",
      "that two of them have matching birthdays is surprisingly large.\n",
      "This program does a Monte Carlo simulation (that is, repeated random\n",
      "simulations) to explore this concept.\n",
      "\n",
      "(It's not actually a paradox, it's just a surprising result.)\n",
      "\n"
     ]
    },
    {
     "name": "stdout",
     "output_type": "stream",
     "text": "How many birthdays shall I generate? (max 100)>  23"
    },
    {
     "name": "stdout",
     "output_type": "stream",
     "text": [
      "\n",
      "Here are 23 birthdays: \n",
      "Jul 16, Mar 21, Aug 10, Oct 14, Jun 17, Jan 16, Jan 12, Jun 4, Jan 15, Aug 10, Oct 27, Jun 17, Oct 12, Jan 19, May 1, Feb 13, Mar 4, Sep 26, Nov 12, Dec 24, Sep 23, Jan 12, Jun 29\n",
      "In this simulation, Multiple people have a birthday on Aug 10\n",
      "\n",
      "Generating, 23, random birthdays 100_000 times...\n"
     ]
    },
    {
     "name": "stdout",
     "output_type": "stream",
     "text": "Press enter to begin... "
    },
    {
     "name": "stdout",
     "output_type": "stream",
     "text": [
      "Let's run another 100_000 simulations\n",
      "0 simulations run...\n"
     ]
    },
    {
     "name": "stdout",
     "output_type": "stream",
     "text": [
      "10000 simulations run...\n"
     ]
    },
    {
     "name": "stdout",
     "output_type": "stream",
     "text": [
      "20000 simulations run...\n"
     ]
    },
    {
     "name": "stdout",
     "output_type": "stream",
     "text": [
      "30000 simulations run...\n"
     ]
    },
    {
     "name": "stdout",
     "output_type": "stream",
     "text": [
      "40000 simulations run...\n"
     ]
    },
    {
     "name": "stdout",
     "output_type": "stream",
     "text": [
      "50000 simulations run...\n"
     ]
    },
    {
     "name": "stdout",
     "output_type": "stream",
     "text": [
      "60000 simulations run...\n"
     ]
    },
    {
     "name": "stdout",
     "output_type": "stream",
     "text": [
      "70000 simulations run...\n"
     ]
    },
    {
     "name": "stdout",
     "output_type": "stream",
     "text": [
      "80000 simulations run...\n"
     ]
    },
    {
     "name": "stdout",
     "output_type": "stream",
     "text": [
      "90000 simulations run...\n"
     ]
    },
    {
     "name": "stdout",
     "output_type": "stream",
     "text": [
      "100,000 simulations run\n",
      "\n",
      "Out of 100,000 simulations of 23, people, there was a\n",
      "matching birthday in that group 50799 times.\n",
      "This means that 23 people have a 50.8% chance of having a matching birthday in their group.\n",
      "\n",
      "that's problably more than you think\n"
     ]
    }
   ],
   "source": [
    "import datetime, random\n",
    "\n",
    "def get_birthdays(number_of_birthdays):\n",
    "    \"\"\"Returns a list of number random date objects for birthdays\"\"\"\n",
    "    birthdays = []\n",
    "\n",
    "    for i in range(number_of_birthdays):\n",
    "        # the year is unimportant for our simulation, as long as all\n",
    "        # birthdays have the same year\n",
    "        start_of_year = datetime.date(year=2024, month=1, day=1) # (2024, 1, 1)\n",
    "\n",
    "        # get a random day into the year\n",
    "        random_number_of_days = datetime.timedelta(random.randint(0, 364)) # day=randomNumber\n",
    "        birthday = start_of_year + random_number_of_days # (2024, month, 1+randomNumber)\n",
    "        birthdays.append(birthday)\n",
    "\n",
    "    return birthdays\n",
    "\n",
    "\n",
    "def get_match(birthdays):\n",
    "    \"\"\"Returns the date object of a birthday that occurs more than once in the birthdays list.\"\"\"\n",
    "    if len(birthdays) == len(set(birthdays)):\n",
    "        # when all birthdays are unique\n",
    "        return None\n",
    "\n",
    "    # compare each birthday to every other birthday\n",
    "    for a, birthdayA in enumerate(birthdays):\n",
    "        for b, birthdayB in enumerate(birthdays[a + 1:]):\n",
    "            if birthdayA == birthdayB:\n",
    "                # return the matching birthday\n",
    "                return birthdayA\n",
    "\n",
    "\n",
    "# display the intro\n",
    "print(\"\"\"\n",
    "\n",
    "The Birthday Paradox shows us that in a group of N people, the odds\n",
    "that two of them have matching birthdays is surprisingly large.\n",
    "This program does a Monte Carlo simulation (that is, repeated random\n",
    "simulations) to explore this concept.\n",
    "\n",
    "(It's not actually a paradox, it's just a surprising result.)\n",
    "\"\"\")\n",
    "\n",
    "# set up a tuple of month names in order\n",
    "MONTHS = ('Jan', 'Feb', 'Mar', 'Apr', 'May', 'Jun',\n",
    "          'Jul', 'Aug', 'Sep', 'Oct', 'Nov', 'Dec')\n",
    "\n",
    "while True:\n",
    "    response = input('How many birthdays shall I generate? (max 100)> ')\n",
    "    if response.isdecimal() and (0 < int(response) < 100):\n",
    "        number_birthdays = int(response)\n",
    "        break\n",
    "print()\n",
    "\n",
    "# generate and display birthdays\n",
    "print(f'Here are {number_birthdays} birthdays: ')\n",
    "birthdays = get_birthdays(number_birthdays)\n",
    "for i, birthday in enumerate(birthdays):\n",
    "    if i != 0:\n",
    "        # display a comma for each birthday after first birthday\n",
    "        print(', ', end='')\n",
    "\n",
    "    month_name = MONTHS[birthday.month - 1]\n",
    "    date_text = f'{month_name} {birthday.day}'\n",
    "    print(date_text, end='')\n",
    "print()\n",
    "# print()\n",
    "\n",
    "# determine if there are 2 birthdays that match\n",
    "match = get_match(birthdays)\n",
    "\n",
    "# display the results\n",
    "print('In this simulation, ', end='')\n",
    "\n",
    "if match != None:\n",
    "    month_name = MONTHS[match.month - 1]\n",
    "    date_text = f'{month_name} {match.day}'\n",
    "    print(f'Multiple people have a birthday on {date_text}')\n",
    "else:\n",
    "    print('There are no matching birthdays')\n",
    "print()\n",
    "\n",
    "# run through 100_000 simulations\n",
    "print(f'Generating, {number_birthdays}, random birthdays 100_000 times...')\n",
    "input('Press enter to begin...')\n",
    "\n",
    "print(\"Let's run another 100_000 simulations\")\n",
    "sim_match = 0\n",
    "sim_number = 100_000\n",
    "\n",
    "for i in range(sim_number):\n",
    "    if i % 10_000 == 0:\n",
    "        print(f'{i} simulations run...')\n",
    "    birthdays = get_birthdays(number_birthdays)\n",
    "    if get_match(birthdays) != None:\n",
    "        sim_match += 1\n",
    "print('100,000 simulations run')\n",
    "\n",
    "# display simulation results\n",
    "probability = round(sim_match/sim_number * 100, 2)\n",
    "print(f\"\"\"\n",
    "Out of 100,000 simulations of {number_birthdays}, people, there was a\n",
    "matching birthday in that group {sim_match} times.\n",
    "This means that {number_birthdays} people have a {probability}% chance of having a matching birthday in their group.\n",
    "\"\"\")\n",
    "print(\"that's problably more than you think\")"
   ]
  }
 ],
 "metadata": {
  "kernelspec": {
   "display_name": "Python 3 (system-wide)",
   "language": "python",
   "metadata": {
    "cocalc": {
     "description": "Python 3 programming language",
     "priority": 100,
     "url": "https://www.python.org/"
    }
   },
   "name": "python3",
   "resource_dir": "/ext/jupyter/kernels/python3"
  },
  "language_info": {
   "codemirror_mode": {
    "name": "ipython",
    "version": 3
   },
   "file_extension": ".py",
   "mimetype": "text/x-python",
   "name": "python",
   "nbconvert_exporter": "python",
   "pygments_lexer": "ipython3",
   "version": "3.8.10"
  }
 },
 "nbformat": 4,
 "nbformat_minor": 4
}