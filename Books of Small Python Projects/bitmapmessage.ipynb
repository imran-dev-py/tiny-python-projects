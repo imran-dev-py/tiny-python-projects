{
 "cells": [
  {
   "cell_type": "code",
   "execution_count": 2,
   "metadata": {
    "cocalc": {
     "outputs": {
      "1": {
       "name": "input",
       "opts": {
        "password": false,
        "prompt": "> "
       },
       "output_type": "stream",
       "value": "hello"
      }
     }
    },
    "collapsed": false
   },
   "outputs": [
    {
     "name": "stdout",
     "output_type": "stream",
     "text": [
      "Enter the message to display with the bitmap\n"
     ]
    },
    {
     "name": "stdout",
     "output_type": "stream",
     "text": ">  hello"
    },
    {
     "name": "stdout",
     "output_type": "stream",
     "text": [
      "\n",
      "hellohellohellohellohellohellohellohellohellohellohellohellohellohel\n",
      "   lohellohellohe   h  loh ll  e      lohellohellohellohellohellohel\n",
      "  llohellohellohellohel oh ll h  l hellohellohellohellohellohello e\n",
      " el      ohellohellohelloh       lohellohellohellohellohellohel\n",
      "          hellohellohel          lo  l ohel oh llohellohelloh l\n",
      "           ellohello            llohell   llohellohellohel o e\n",
      "            llohello           ellohellohellohellohellohel  h\n",
      "   l        l ohel ohe         ellohellohelloh llohel  he l\n",
      "               hell  e         ellohellohelloh   ohe loh  l\n",
      "                 llohel         llohellohello    oh   oh  l\n",
      "                 llohello        lohellohelloh    h  lo ell\n",
      "                   ohellohe         ellohell          o ell hell\n",
      "                   ohellohel         llohel  h        ohel oh l oh\n",
      "                   ohellohel         llohel o e           loh l   e\n",
      "                     ellohe          llohe lo             lohel   e\n",
      "                     elloh            lohe l            ellohell\n",
      "                    hello             lohe              ellohello\n",
      "                    hell              lo                 llohell   l\n",
      "                    hel                                       l    l\n",
      "                    he     l                    l\n",
      "hellohellohellohellohellohellohellohellohellohellohellohellohellohel\n"
     ]
    }
   ],
   "source": [
    "bitmap = \"\"\"\n",
    "....................................................................\n",
    "   **************   *  *** **  *      ******************************\n",
    "  ********************* ** ** *  * ****************************** *\n",
    " **      *****************       ******************************\n",
    "          *************          **  * **** ** ************** *\n",
    "           *********            *******   **************** * *\n",
    "            ********           ***************************  *\n",
    "   *        * **** ***         *************** ******  ** *\n",
    "               ****  *         ***************   *** ***  *\n",
    "                 ******         *************    **   **  *\n",
    "                 ********        *************    *  ** ***\n",
    "                   ********         ********          * *** ****\n",
    "                   *********         ******  *        **** ** * **\n",
    "                   *********         ****** * *           *** *   *\n",
    "                     ******          ***** **             *****   *\n",
    "                     *****            **** *            ********\n",
    "                    *****             ****              *********\n",
    "                    ****              **                 *******   *\n",
    "                    ***                                       *    *\n",
    "                    **     *                    *\n",
    "....................................................................\"\"\"\n",
    "\n",
    "print('Enter the message to display with the bitmap')\n",
    "message = input('> ')\n",
    "if message == '':\n",
    "    exit()\n",
    "\n",
    "# Loop over each line in the bitmap:\n",
    "for line in bitmap.splitlines():\n",
    "    # Loop over each character in the line:\n",
    "    for i, bit in enumerate(line):\n",
    "        if bit == ' ':\n",
    "            print(' ', end='')\n",
    "        else:\n",
    "            print(message[i % len(message)], end='')\n",
    "    print()"
   ]
  }
 ],
 "metadata": {
  "kernelspec": {
   "display_name": "Python 3 (system-wide)",
   "language": "python",
   "metadata": {
    "cocalc": {
     "description": "Python 3 programming language",
     "priority": 100,
     "url": "https://www.python.org/"
    }
   },
   "name": "python3",
   "resource_dir": "/ext/jupyter/kernels/python3"
  },
  "language_info": {
   "codemirror_mode": {
    "name": "ipython",
    "version": 3
   },
   "file_extension": ".py",
   "mimetype": "text/x-python",
   "name": "python",
   "nbconvert_exporter": "python",
   "pygments_lexer": "ipython3",
   "version": "3.8.10"
  }
 },
 "nbformat": 4,
 "nbformat_minor": 4
}